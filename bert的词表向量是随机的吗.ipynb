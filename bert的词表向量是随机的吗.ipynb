{
  "cells": [
    {
      "cell_type": "code",
      "source": [
        "#!pip install transformers\n",
        "#!pip uninstall -y transformers accelerate\n",
        "!pip install transformers accelerate"
      ],
      "metadata": {
        "colab": {
          "base_uri": "https://localhost:8080/"
        },
        "id": "J7VFm24f4RiW",
        "outputId": "54ca3985-2f9a-4fb1-97e0-cca6f8d82835"
      },
      "execution_count": 7,
      "outputs": [
        {
          "output_type": "stream",
          "name": "stdout",
          "text": [
            "Requirement already satisfied: transformers in /usr/local/lib/python3.10/dist-packages (4.35.2)\n",
            "Requirement already satisfied: accelerate in /usr/local/lib/python3.10/dist-packages (0.25.0)\n",
            "Requirement already satisfied: filelock in /usr/local/lib/python3.10/dist-packages (from transformers) (3.13.1)\n",
            "Requirement already satisfied: huggingface-hub<1.0,>=0.16.4 in /usr/local/lib/python3.10/dist-packages (from transformers) (0.19.4)\n",
            "Requirement already satisfied: numpy>=1.17 in /usr/local/lib/python3.10/dist-packages (from transformers) (1.23.5)\n",
            "Requirement already satisfied: packaging>=20.0 in /usr/local/lib/python3.10/dist-packages (from transformers) (23.2)\n",
            "Requirement already satisfied: pyyaml>=5.1 in /usr/local/lib/python3.10/dist-packages (from transformers) (6.0.1)\n",
            "Requirement already satisfied: regex!=2019.12.17 in /usr/local/lib/python3.10/dist-packages (from transformers) (2023.6.3)\n",
            "Requirement already satisfied: requests in /usr/local/lib/python3.10/dist-packages (from transformers) (2.31.0)\n",
            "Requirement already satisfied: tokenizers<0.19,>=0.14 in /usr/local/lib/python3.10/dist-packages (from transformers) (0.15.0)\n",
            "Requirement already satisfied: safetensors>=0.3.1 in /usr/local/lib/python3.10/dist-packages (from transformers) (0.4.1)\n",
            "Requirement already satisfied: tqdm>=4.27 in /usr/local/lib/python3.10/dist-packages (from transformers) (4.66.1)\n",
            "Requirement already satisfied: psutil in /usr/local/lib/python3.10/dist-packages (from accelerate) (5.9.5)\n",
            "Requirement already satisfied: torch>=1.10.0 in /usr/local/lib/python3.10/dist-packages (from accelerate) (2.1.0+cu118)\n",
            "Requirement already satisfied: fsspec>=2023.5.0 in /usr/local/lib/python3.10/dist-packages (from huggingface-hub<1.0,>=0.16.4->transformers) (2023.6.0)\n",
            "Requirement already satisfied: typing-extensions>=3.7.4.3 in /usr/local/lib/python3.10/dist-packages (from huggingface-hub<1.0,>=0.16.4->transformers) (4.5.0)\n",
            "Requirement already satisfied: sympy in /usr/local/lib/python3.10/dist-packages (from torch>=1.10.0->accelerate) (1.12)\n",
            "Requirement already satisfied: networkx in /usr/local/lib/python3.10/dist-packages (from torch>=1.10.0->accelerate) (3.2.1)\n",
            "Requirement already satisfied: jinja2 in /usr/local/lib/python3.10/dist-packages (from torch>=1.10.0->accelerate) (3.1.2)\n",
            "Requirement already satisfied: triton==2.1.0 in /usr/local/lib/python3.10/dist-packages (from torch>=1.10.0->accelerate) (2.1.0)\n",
            "Requirement already satisfied: charset-normalizer<4,>=2 in /usr/local/lib/python3.10/dist-packages (from requests->transformers) (3.3.2)\n",
            "Requirement already satisfied: idna<4,>=2.5 in /usr/local/lib/python3.10/dist-packages (from requests->transformers) (3.6)\n",
            "Requirement already satisfied: urllib3<3,>=1.21.1 in /usr/local/lib/python3.10/dist-packages (from requests->transformers) (2.0.7)\n",
            "Requirement already satisfied: certifi>=2017.4.17 in /usr/local/lib/python3.10/dist-packages (from requests->transformers) (2023.11.17)\n",
            "Requirement already satisfied: MarkupSafe>=2.0 in /usr/local/lib/python3.10/dist-packages (from jinja2->torch>=1.10.0->accelerate) (2.1.3)\n",
            "Requirement already satisfied: mpmath>=0.19 in /usr/local/lib/python3.10/dist-packages (from sympy->torch>=1.10.0->accelerate) (1.3.0)\n"
          ]
        }
      ]
    },
    {
      "cell_type": "code",
      "source": [
        "from google.colab import drive\n",
        "drive.mount('/content/drive')"
      ],
      "metadata": {
        "colab": {
          "base_uri": "https://localhost:8080/"
        },
        "id": "nXBruk5MlPI-",
        "outputId": "5fb68cc9-a284-41c2-8114-0d2198a1d2bf"
      },
      "execution_count": 8,
      "outputs": [
        {
          "output_type": "stream",
          "name": "stdout",
          "text": [
            "Drive already mounted at /content/drive; to attempt to forcibly remount, call drive.mount(\"/content/drive\", force_remount=True).\n"
          ]
        }
      ]
    },
    {
      "cell_type": "code",
      "execution_count": 9,
      "metadata": {
        "id": "uMFWOBd14NBw"
      },
      "outputs": [],
      "source": [
        "import torch\n",
        "from transformers import Trainer, TrainingArguments, DefaultFlowCallback, AdamW, get_constant_schedule\n",
        "from sklearn.model_selection import train_test_split\n",
        "from sklearn.metrics import f1_score\n",
        "import pandas as pd\n",
        "from tqdm import tqdm\n",
        "import json\n",
        "def read_json(input_file):\n",
        "    \"\"\"Reads a json list file.\"\"\"\n",
        "    with open(input_file, \"r\",encoding='utf-8') as f:\n",
        "        reader = f.readlines()#每一行作为一个元素储存在一个list中\n",
        "    return [json.loads(line.strip()) for line in reader]#json数据处理，返回列表"
      ]
    },
    {
      "cell_type": "code",
      "execution_count": 25,
      "metadata": {
        "id": "cocFjgh64NB5"
      },
      "outputs": [],
      "source": [
        "import random\n",
        "import torch\n",
        "from transformers import BertTokenizer, BertModel\n",
        "from sklearn.metrics.pairwise import cosine_similarity"
      ]
    },
    {
      "cell_type": "code",
      "source": [
        "\n",
        "# Load BERT tokenizer and model\n",
        "tokenizer = BertTokenizer.from_pretrained('bert-base-uncased')\n",
        "model = BertModel.from_pretrained('bert-base-uncased')"
      ],
      "metadata": {
        "id": "hM4eX42JFX-u"
      },
      "execution_count": 26,
      "outputs": []
    },
    {
      "cell_type": "code",
      "source": [
        "# Input text\n",
        "text = \"After stealing money from the bank vault, the bank robber was seen \" \\\n",
        "       \"fishing on the Mississippi river bank.\"\n",
        "\n",
        "# Tokenize and encode text using batch_encode_plus\n",
        "# The function returns a dictionary containing the token IDs and attention masks\n",
        "encoding = tokenizer.batch_encode_plus(\n",
        "    [text],                    # List of input texts\n",
        "    padding=True,              # Pad to the maximum sequence length\n",
        "    truncation=True,           # Truncate to the maximum sequence length if necessary\n",
        "    return_tensors='pt',      # Return PyTorch tensors\n",
        "    add_special_tokens=True    # Add special tokens CLS and SEP\n",
        ")\n",
        "\n",
        "input_ids = encoding['input_ids']  # Token IDs\n",
        "# print input IDs\n",
        "print(f\"Input ID: {input_ids}\")\n",
        "attention_mask = encoding['attention_mask']  # Attention mask\n",
        "# print attention mask\n",
        "print(f\"Attention mask: {attention_mask}\")"
      ],
      "metadata": {
        "colab": {
          "base_uri": "https://localhost:8080/"
        },
        "id": "3o3Fta4CF7fz",
        "outputId": "718e339d-e68d-49c9-d6fd-24be22d176c9"
      },
      "execution_count": 47,
      "outputs": [
        {
          "output_type": "stream",
          "name": "stdout",
          "text": [
            "Input ID: tensor([[  101,  2044, 11065,  2769,  2013,  1996,  2924, 11632,  1010,  1996,\n",
            "          2924, 27307,  2001,  2464,  5645,  2006,  1996,  5900,  2314,  2924,\n",
            "          1012,   102]])\n",
            "Attention mask: tensor([[1, 1, 1, 1, 1, 1, 1, 1, 1, 1, 1, 1, 1, 1, 1, 1, 1, 1, 1, 1, 1, 1]])\n"
          ]
        }
      ]
    },
    {
      "cell_type": "code",
      "source": [],
      "metadata": {
        "id": "uynmbLv1dxnU"
      },
      "execution_count": null,
      "outputs": []
    },
    {
      "cell_type": "code",
      "source": [
        "# Decode the token IDs back to text\n",
        "decoded_text = tokenizer.decode(input_ids[0], skip_special_tokens=True)\n",
        "#print decoded text\n",
        "print(f\"Decoded Text: {decoded_text}\")\n",
        "# Tokenize the text again for reference\n",
        "tokenized_text = tokenizer.tokenize(decoded_text)\n",
        "#print tokenized text\n",
        "print(f\"tokenized Text: {tokenized_text}\")\n",
        "# Encode the text\n",
        "encoded_text = tokenizer.encode(text, return_tensors='pt')  # Returns a tensor\n",
        "# Print encoded text\n",
        "print(f\"Encoded Text: {encoded_text}\")"
      ],
      "metadata": {
        "colab": {
          "base_uri": "https://localhost:8080/"
        },
        "id": "fFiSEe2_alyh",
        "outputId": "8980f4e3-8dc3-43b5-866b-8078f35535c2"
      },
      "execution_count": 49,
      "outputs": [
        {
          "output_type": "stream",
          "name": "stdout",
          "text": [
            "Decoded Text: after stealing money from the bank vault, the bank robber was seen fishing on the mississippi river bank.\n",
            "tokenized Text: ['after', 'stealing', 'money', 'from', 'the', 'bank', 'vault', ',', 'the', 'bank', 'robber', 'was', 'seen', 'fishing', 'on', 'the', 'mississippi', 'river', 'bank', '.']\n",
            "Encoded Text: tensor([[  101,  2044, 11065,  2769,  2013,  1996,  2924, 11632,  1010,  1996,\n",
            "          2924, 27307,  2001,  2464,  5645,  2006,  1996,  5900,  2314,  2924,\n",
            "          1012,   102]])\n"
          ]
        }
      ]
    },
    {
      "cell_type": "code",
      "source": [
        "len(tokenized_text)"
      ],
      "metadata": {
        "colab": {
          "base_uri": "https://localhost:8080/"
        },
        "id": "Fw_COM0Dn7j2",
        "outputId": "2d5f5d5d-2a68-43e1-fe6c-4a88fe6ece62"
      },
      "execution_count": 89,
      "outputs": [
        {
          "output_type": "execute_result",
          "data": {
            "text/plain": [
              "20"
            ]
          },
          "metadata": {},
          "execution_count": 89
        }
      ]
    },
    {
      "cell_type": "code",
      "source": [
        "encoded_text.size()"
      ],
      "metadata": {
        "colab": {
          "base_uri": "https://localhost:8080/"
        },
        "id": "jMMZlTlZoAXy",
        "outputId": "ab6147b0-3bb7-40a9-c206-3b3960c3f17c"
      },
      "execution_count": 91,
      "outputs": [
        {
          "output_type": "execute_result",
          "data": {
            "text/plain": [
              "torch.Size([1, 22])"
            ]
          },
          "metadata": {},
          "execution_count": 91
        }
      ]
    },
    {
      "cell_type": "code",
      "source": [
        "tuple_0 = []\n",
        "for i in range(len(tokenized_text)):\n",
        "  tuple_0.append([tokenized_text[i],encoded_text[0][i+1]])"
      ],
      "metadata": {
        "id": "2nysa6f-hPhC"
      },
      "execution_count": 92,
      "outputs": []
    },
    {
      "cell_type": "code",
      "source": [
        "import numpy as np"
      ],
      "metadata": {
        "id": "Z3LtdBaZjnnB"
      },
      "execution_count": 73,
      "outputs": []
    },
    {
      "cell_type": "code",
      "source": [
        "import torch\n",
        "from torch import Tensor\n",
        "\n",
        "cosi = torch.nn.CosineSimilarity(dim=0)"
      ],
      "metadata": {
        "id": "zSwTzGCsqkbq"
      },
      "execution_count": null,
      "outputs": []
    },
    {
      "cell_type": "code",
      "source": [
        "for idx,tuple_1 in enumerate(tuple_0):\n",
        "  for idx_1,tuple_2 in enumerate(tuple_0):\n",
        "    #print(idx,idx_1)\n",
        "    if idx<idx_1:\n",
        "      print(tuple_1[0],tuple_2[0],tuple_1[1],tuple_2[1],cosi(model.embeddings.word_embeddings.weight[tuple_1[1]],model.embeddings.word_embeddings.weight[tuple_2[1]]))\n"
      ],
      "metadata": {
        "colab": {
          "base_uri": "https://localhost:8080/",
          "height": 1000
        },
        "id": "xCsn5UWbF7xW",
        "outputId": "aeab127e-ba72-428e-da89-38e7f72879cd"
      },
      "execution_count": 93,
      "outputs": [
        {
          "output_type": "stream",
          "name": "stdout",
          "text": [
            "after stealing tensor(2044) tensor(11065) tensor(0.1569, grad_fn=<SumBackward1>)\n",
            "after money tensor(2044) tensor(2769) tensor(0.1825, grad_fn=<SumBackward1>)\n",
            "after from tensor(2044) tensor(2013) tensor(0.3969, grad_fn=<SumBackward1>)\n",
            "after the tensor(2044) tensor(1996) tensor(0.3210, grad_fn=<SumBackward1>)\n",
            "after bank tensor(2044) tensor(2924) tensor(0.1457, grad_fn=<SumBackward1>)\n",
            "after vault tensor(2044) tensor(11632) tensor(0.1332, grad_fn=<SumBackward1>)\n",
            "after , tensor(2044) tensor(1010) tensor(0.3480, grad_fn=<SumBackward1>)\n",
            "after the tensor(2044) tensor(1996) tensor(0.3210, grad_fn=<SumBackward1>)\n",
            "after bank tensor(2044) tensor(2924) tensor(0.1457, grad_fn=<SumBackward1>)\n",
            "after robber tensor(2044) tensor(27307) tensor(0.1053, grad_fn=<SumBackward1>)\n",
            "after was tensor(2044) tensor(2001) tensor(0.2844, grad_fn=<SumBackward1>)\n",
            "after seen tensor(2044) tensor(2464) tensor(0.1842, grad_fn=<SumBackward1>)\n",
            "after fishing tensor(2044) tensor(5645) tensor(0.1291, grad_fn=<SumBackward1>)\n",
            "after on tensor(2044) tensor(2006) tensor(0.3739, grad_fn=<SumBackward1>)\n",
            "after the tensor(2044) tensor(1996) tensor(0.3210, grad_fn=<SumBackward1>)\n",
            "after mississippi tensor(2044) tensor(5900) tensor(0.1210, grad_fn=<SumBackward1>)\n",
            "after river tensor(2044) tensor(2314) tensor(0.1900, grad_fn=<SumBackward1>)\n",
            "after bank tensor(2044) tensor(2924) tensor(0.1457, grad_fn=<SumBackward1>)\n",
            "after . tensor(2044) tensor(1012) tensor(0.3266, grad_fn=<SumBackward1>)\n",
            "stealing money tensor(11065) tensor(2769) tensor(0.3185, grad_fn=<SumBackward1>)\n",
            "stealing from tensor(11065) tensor(2013) tensor(0.0982, grad_fn=<SumBackward1>)\n",
            "stealing the tensor(11065) tensor(1996) tensor(0.1087, grad_fn=<SumBackward1>)\n",
            "stealing bank tensor(11065) tensor(2924) tensor(0.2894, grad_fn=<SumBackward1>)\n",
            "stealing vault tensor(11065) tensor(11632) tensor(0.4834, grad_fn=<SumBackward1>)\n",
            "stealing , tensor(11065) tensor(1010) tensor(0.0514, grad_fn=<SumBackward1>)\n",
            "stealing the tensor(11065) tensor(1996) tensor(0.1087, grad_fn=<SumBackward1>)\n",
            "stealing bank tensor(11065) tensor(2924) tensor(0.2894, grad_fn=<SumBackward1>)\n",
            "stealing robber tensor(11065) tensor(27307) tensor(0.5381, grad_fn=<SumBackward1>)\n",
            "stealing was tensor(11065) tensor(2001) tensor(0.1367, grad_fn=<SumBackward1>)\n",
            "stealing seen tensor(11065) tensor(2464) tensor(0.2767, grad_fn=<SumBackward1>)\n",
            "stealing fishing tensor(11065) tensor(5645) tensor(0.4251, grad_fn=<SumBackward1>)\n",
            "stealing on tensor(11065) tensor(2006) tensor(0.1086, grad_fn=<SumBackward1>)\n",
            "stealing the tensor(11065) tensor(1996) tensor(0.1087, grad_fn=<SumBackward1>)\n",
            "stealing mississippi tensor(11065) tensor(5900) tensor(0.4094, grad_fn=<SumBackward1>)\n",
            "stealing river tensor(11065) tensor(2314) tensor(0.2275, grad_fn=<SumBackward1>)\n",
            "stealing bank tensor(11065) tensor(2924) tensor(0.2894, grad_fn=<SumBackward1>)\n",
            "stealing . tensor(11065) tensor(1012) tensor(0.0964, grad_fn=<SumBackward1>)\n",
            "money from tensor(2769) tensor(2013) tensor(0.1492, grad_fn=<SumBackward1>)\n",
            "money the tensor(2769) tensor(1996) tensor(0.1873, grad_fn=<SumBackward1>)\n",
            "money bank tensor(2769) tensor(2924) tensor(0.3226, grad_fn=<SumBackward1>)\n",
            "money vault tensor(2769) tensor(11632) tensor(0.2638, grad_fn=<SumBackward1>)\n",
            "money , tensor(2769) tensor(1010) tensor(0.1620, grad_fn=<SumBackward1>)\n",
            "money the tensor(2769) tensor(1996) tensor(0.1873, grad_fn=<SumBackward1>)\n",
            "money bank tensor(2769) tensor(2924) tensor(0.3226, grad_fn=<SumBackward1>)\n",
            "money robber tensor(2769) tensor(27307) tensor(0.3166, grad_fn=<SumBackward1>)\n",
            "money was tensor(2769) tensor(2001) tensor(0.1699, grad_fn=<SumBackward1>)\n",
            "money seen tensor(2769) tensor(2464) tensor(0.1987, grad_fn=<SumBackward1>)\n",
            "money fishing tensor(2769) tensor(5645) tensor(0.2477, grad_fn=<SumBackward1>)\n",
            "money on tensor(2769) tensor(2006) tensor(0.1538, grad_fn=<SumBackward1>)\n",
            "money the tensor(2769) tensor(1996) tensor(0.1873, grad_fn=<SumBackward1>)\n",
            "money mississippi tensor(2769) tensor(5900) tensor(0.2770, grad_fn=<SumBackward1>)\n",
            "money river tensor(2769) tensor(2314) tensor(0.2481, grad_fn=<SumBackward1>)\n",
            "money bank tensor(2769) tensor(2924) tensor(0.3226, grad_fn=<SumBackward1>)\n",
            "money . tensor(2769) tensor(1012) tensor(0.1279, grad_fn=<SumBackward1>)\n",
            "from the tensor(2013) tensor(1996) tensor(0.4109, grad_fn=<SumBackward1>)\n",
            "from bank tensor(2013) tensor(2924) tensor(0.1333, grad_fn=<SumBackward1>)\n",
            "from vault tensor(2013) tensor(11632) tensor(0.1178, grad_fn=<SumBackward1>)\n",
            "from , tensor(2013) tensor(1010) tensor(0.4499, grad_fn=<SumBackward1>)\n",
            "from the tensor(2013) tensor(1996) tensor(0.4109, grad_fn=<SumBackward1>)\n",
            "from bank tensor(2013) tensor(2924) tensor(0.1333, grad_fn=<SumBackward1>)\n",
            "from robber tensor(2013) tensor(27307) tensor(0.0960, grad_fn=<SumBackward1>)\n",
            "from was tensor(2013) tensor(2001) tensor(0.3274, grad_fn=<SumBackward1>)\n",
            "from seen tensor(2013) tensor(2464) tensor(0.1802, grad_fn=<SumBackward1>)\n",
            "from fishing tensor(2013) tensor(5645) tensor(0.0754, grad_fn=<SumBackward1>)\n",
            "from on tensor(2013) tensor(2006) tensor(0.4790, grad_fn=<SumBackward1>)\n",
            "from the tensor(2013) tensor(1996) tensor(0.4109, grad_fn=<SumBackward1>)\n",
            "from mississippi tensor(2013) tensor(5900) tensor(0.0660, grad_fn=<SumBackward1>)\n",
            "from river tensor(2013) tensor(2314) tensor(0.1388, grad_fn=<SumBackward1>)\n",
            "from bank tensor(2013) tensor(2924) tensor(0.1333, grad_fn=<SumBackward1>)\n",
            "from . tensor(2013) tensor(1012) tensor(0.3884, grad_fn=<SumBackward1>)\n",
            "the bank tensor(1996) tensor(2924) tensor(0.1756, grad_fn=<SumBackward1>)\n",
            "the vault tensor(1996) tensor(11632) tensor(0.1398, grad_fn=<SumBackward1>)\n",
            "the , tensor(1996) tensor(1010) tensor(0.5437, grad_fn=<SumBackward1>)\n",
            "the the tensor(1996) tensor(1996) tensor(1., grad_fn=<SumBackward1>)\n",
            "the bank tensor(1996) tensor(2924) tensor(0.1756, grad_fn=<SumBackward1>)\n",
            "the robber tensor(1996) tensor(27307) tensor(0.1138, grad_fn=<SumBackward1>)\n",
            "the was tensor(1996) tensor(2001) tensor(0.4031, grad_fn=<SumBackward1>)\n",
            "the seen tensor(1996) tensor(2464) tensor(0.1996, grad_fn=<SumBackward1>)\n",
            "the fishing tensor(1996) tensor(5645) tensor(0.1151, grad_fn=<SumBackward1>)\n",
            "the on tensor(1996) tensor(2006) tensor(0.4223, grad_fn=<SumBackward1>)\n",
            "the the tensor(1996) tensor(1996) tensor(1., grad_fn=<SumBackward1>)\n",
            "the mississippi tensor(1996) tensor(5900) tensor(0.1328, grad_fn=<SumBackward1>)\n",
            "the river tensor(1996) tensor(2314) tensor(0.2215, grad_fn=<SumBackward1>)\n",
            "the bank tensor(1996) tensor(2924) tensor(0.1756, grad_fn=<SumBackward1>)\n",
            "the . tensor(1996) tensor(1012) tensor(0.4654, grad_fn=<SumBackward1>)\n",
            "bank vault tensor(2924) tensor(11632) tensor(0.2899, grad_fn=<SumBackward1>)\n",
            "bank , tensor(2924) tensor(1010) tensor(0.1544, grad_fn=<SumBackward1>)\n",
            "bank the tensor(2924) tensor(1996) tensor(0.1756, grad_fn=<SumBackward1>)\n",
            "bank bank tensor(2924) tensor(2924) tensor(1.0000, grad_fn=<SumBackward1>)\n",
            "bank robber tensor(2924) tensor(27307) tensor(0.3167, grad_fn=<SumBackward1>)\n",
            "bank was tensor(2924) tensor(2001) tensor(0.1655, grad_fn=<SumBackward1>)\n",
            "bank seen tensor(2924) tensor(2464) tensor(0.2056, grad_fn=<SumBackward1>)\n",
            "bank fishing tensor(2924) tensor(5645) tensor(0.2501, grad_fn=<SumBackward1>)\n",
            "bank on tensor(2924) tensor(2006) tensor(0.1569, grad_fn=<SumBackward1>)\n",
            "bank the tensor(2924) tensor(1996) tensor(0.1756, grad_fn=<SumBackward1>)\n",
            "bank mississippi tensor(2924) tensor(5900) tensor(0.2787, grad_fn=<SumBackward1>)\n",
            "bank river tensor(2924) tensor(2314) tensor(0.3079, grad_fn=<SumBackward1>)\n",
            "bank bank tensor(2924) tensor(2924) tensor(1.0000, grad_fn=<SumBackward1>)\n",
            "bank . tensor(2924) tensor(1012) tensor(0.1086, grad_fn=<SumBackward1>)\n",
            "vault , tensor(11632) tensor(1010) tensor(0.0810, grad_fn=<SumBackward1>)\n",
            "vault the tensor(11632) tensor(1996) tensor(0.1398, grad_fn=<SumBackward1>)\n",
            "vault bank tensor(11632) tensor(2924) tensor(0.2899, grad_fn=<SumBackward1>)\n",
            "vault robber tensor(11632) tensor(27307) tensor(0.4655, grad_fn=<SumBackward1>)\n",
            "vault was tensor(11632) tensor(2001) tensor(0.1520, grad_fn=<SumBackward1>)\n",
            "vault seen tensor(11632) tensor(2464) tensor(0.2312, grad_fn=<SumBackward1>)\n",
            "vault fishing tensor(11632) tensor(5645) tensor(0.2998, grad_fn=<SumBackward1>)\n",
            "vault on tensor(11632) tensor(2006) tensor(0.0709, grad_fn=<SumBackward1>)\n",
            "vault the tensor(11632) tensor(1996) tensor(0.1398, grad_fn=<SumBackward1>)\n",
            "vault mississippi tensor(11632) tensor(5900) tensor(0.3322, grad_fn=<SumBackward1>)\n",
            "vault river tensor(11632) tensor(2314) tensor(0.2629, grad_fn=<SumBackward1>)\n",
            "vault bank tensor(11632) tensor(2924) tensor(0.2899, grad_fn=<SumBackward1>)\n",
            "vault . tensor(11632) tensor(1012) tensor(0.0981, grad_fn=<SumBackward1>)\n",
            ", the tensor(1010) tensor(1996) tensor(0.5437, grad_fn=<SumBackward1>)\n",
            ", bank tensor(1010) tensor(2924) tensor(0.1544, grad_fn=<SumBackward1>)\n",
            ", robber tensor(1010) tensor(27307) tensor(0.0465, grad_fn=<SumBackward1>)\n",
            ", was tensor(1010) tensor(2001) tensor(0.4719, grad_fn=<SumBackward1>)\n",
            ", seen tensor(1010) tensor(2464) tensor(0.1834, grad_fn=<SumBackward1>)\n",
            ", fishing tensor(1010) tensor(5645) tensor(0.0817, grad_fn=<SumBackward1>)\n",
            ", on tensor(1010) tensor(2006) tensor(0.4549, grad_fn=<SumBackward1>)\n",
            ", the tensor(1010) tensor(1996) tensor(0.5437, grad_fn=<SumBackward1>)\n",
            ", mississippi tensor(1010) tensor(5900) tensor(0.0609, grad_fn=<SumBackward1>)\n",
            ", river tensor(1010) tensor(2314) tensor(0.1787, grad_fn=<SumBackward1>)\n",
            ", bank tensor(1010) tensor(2924) tensor(0.1544, grad_fn=<SumBackward1>)\n",
            ", . tensor(1010) tensor(1012) tensor(0.6977, grad_fn=<SumBackward1>)\n",
            "the bank tensor(1996) tensor(2924) tensor(0.1756, grad_fn=<SumBackward1>)\n",
            "the robber tensor(1996) tensor(27307) tensor(0.1138, grad_fn=<SumBackward1>)\n",
            "the was tensor(1996) tensor(2001) tensor(0.4031, grad_fn=<SumBackward1>)\n",
            "the seen tensor(1996) tensor(2464) tensor(0.1996, grad_fn=<SumBackward1>)\n",
            "the fishing tensor(1996) tensor(5645) tensor(0.1151, grad_fn=<SumBackward1>)\n",
            "the on tensor(1996) tensor(2006) tensor(0.4223, grad_fn=<SumBackward1>)\n",
            "the the tensor(1996) tensor(1996) tensor(1., grad_fn=<SumBackward1>)\n",
            "the mississippi tensor(1996) tensor(5900) tensor(0.1328, grad_fn=<SumBackward1>)\n",
            "the river tensor(1996) tensor(2314) tensor(0.2215, grad_fn=<SumBackward1>)\n",
            "the bank tensor(1996) tensor(2924) tensor(0.1756, grad_fn=<SumBackward1>)\n",
            "the . tensor(1996) tensor(1012) tensor(0.4654, grad_fn=<SumBackward1>)\n",
            "bank robber tensor(2924) tensor(27307) tensor(0.3167, grad_fn=<SumBackward1>)\n",
            "bank was tensor(2924) tensor(2001) tensor(0.1655, grad_fn=<SumBackward1>)\n",
            "bank seen tensor(2924) tensor(2464) tensor(0.2056, grad_fn=<SumBackward1>)\n",
            "bank fishing tensor(2924) tensor(5645) tensor(0.2501, grad_fn=<SumBackward1>)\n",
            "bank on tensor(2924) tensor(2006) tensor(0.1569, grad_fn=<SumBackward1>)\n",
            "bank the tensor(2924) tensor(1996) tensor(0.1756, grad_fn=<SumBackward1>)\n",
            "bank mississippi tensor(2924) tensor(5900) tensor(0.2787, grad_fn=<SumBackward1>)\n",
            "bank river tensor(2924) tensor(2314) tensor(0.3079, grad_fn=<SumBackward1>)\n",
            "bank bank tensor(2924) tensor(2924) tensor(1.0000, grad_fn=<SumBackward1>)\n",
            "bank . tensor(2924) tensor(1012) tensor(0.1086, grad_fn=<SumBackward1>)\n",
            "robber was tensor(27307) tensor(2001) tensor(0.1257, grad_fn=<SumBackward1>)\n",
            "robber seen tensor(27307) tensor(2464) tensor(0.2746, grad_fn=<SumBackward1>)\n",
            "robber fishing tensor(27307) tensor(5645) tensor(0.4157, grad_fn=<SumBackward1>)\n",
            "robber on tensor(27307) tensor(2006) tensor(0.0741, grad_fn=<SumBackward1>)\n",
            "robber the tensor(27307) tensor(1996) tensor(0.1138, grad_fn=<SumBackward1>)\n",
            "robber mississippi tensor(27307) tensor(5900) tensor(0.4340, grad_fn=<SumBackward1>)\n",
            "robber river tensor(27307) tensor(2314) tensor(0.2808, grad_fn=<SumBackward1>)\n",
            "robber bank tensor(27307) tensor(2924) tensor(0.3167, grad_fn=<SumBackward1>)\n",
            "robber . tensor(27307) tensor(1012) tensor(0.0602, grad_fn=<SumBackward1>)\n",
            "was seen tensor(2001) tensor(2464) tensor(0.1713, grad_fn=<SumBackward1>)\n",
            "was fishing tensor(2001) tensor(5645) tensor(0.1252, grad_fn=<SumBackward1>)\n",
            "was on tensor(2001) tensor(2006) tensor(0.3379, grad_fn=<SumBackward1>)\n",
            "was the tensor(2001) tensor(1996) tensor(0.4031, grad_fn=<SumBackward1>)\n",
            "was mississippi tensor(2001) tensor(5900) tensor(0.1430, grad_fn=<SumBackward1>)\n",
            "was river tensor(2001) tensor(2314) tensor(0.1796, grad_fn=<SumBackward1>)\n",
            "was bank tensor(2001) tensor(2924) tensor(0.1655, grad_fn=<SumBackward1>)\n",
            "was . tensor(2001) tensor(1012) tensor(0.3892, grad_fn=<SumBackward1>)\n",
            "seen fishing tensor(2464) tensor(5645) tensor(0.2551, grad_fn=<SumBackward1>)\n",
            "seen on tensor(2464) tensor(2006) tensor(0.1803, grad_fn=<SumBackward1>)\n",
            "seen the tensor(2464) tensor(1996) tensor(0.1996, grad_fn=<SumBackward1>)\n",
            "seen mississippi tensor(2464) tensor(5900) tensor(0.2329, grad_fn=<SumBackward1>)\n",
            "seen river tensor(2464) tensor(2314) tensor(0.1788, grad_fn=<SumBackward1>)\n",
            "seen bank tensor(2464) tensor(2924) tensor(0.2056, grad_fn=<SumBackward1>)\n",
            "seen . tensor(2464) tensor(1012) tensor(0.1645, grad_fn=<SumBackward1>)\n",
            "fishing on tensor(5645) tensor(2006) tensor(0.0915, grad_fn=<SumBackward1>)\n",
            "fishing the tensor(5645) tensor(1996) tensor(0.1151, grad_fn=<SumBackward1>)\n",
            "fishing mississippi tensor(5645) tensor(5900) tensor(0.3531, grad_fn=<SumBackward1>)\n",
            "fishing river tensor(5645) tensor(2314) tensor(0.2823, grad_fn=<SumBackward1>)\n",
            "fishing bank tensor(5645) tensor(2924) tensor(0.2501, grad_fn=<SumBackward1>)\n",
            "fishing . tensor(5645) tensor(1012) tensor(0.0886, grad_fn=<SumBackward1>)\n",
            "on the tensor(2006) tensor(1996) tensor(0.4223, grad_fn=<SumBackward1>)\n",
            "on mississippi tensor(2006) tensor(5900) tensor(0.0743, grad_fn=<SumBackward1>)\n",
            "on river tensor(2006) tensor(2314) tensor(0.1459, grad_fn=<SumBackward1>)\n",
            "on bank tensor(2006) tensor(2924) tensor(0.1569, grad_fn=<SumBackward1>)\n",
            "on . tensor(2006) tensor(1012) tensor(0.3864, grad_fn=<SumBackward1>)\n",
            "the mississippi tensor(1996) tensor(5900) tensor(0.1328, grad_fn=<SumBackward1>)\n",
            "the river tensor(1996) tensor(2314) tensor(0.2215, grad_fn=<SumBackward1>)\n",
            "the bank tensor(1996) tensor(2924) tensor(0.1756, grad_fn=<SumBackward1>)\n",
            "the . tensor(1996) tensor(1012) tensor(0.4654, grad_fn=<SumBackward1>)\n",
            "mississippi river tensor(5900) tensor(2314) tensor(0.3386, grad_fn=<SumBackward1>)\n",
            "mississippi bank tensor(5900) tensor(2924) tensor(0.2787, grad_fn=<SumBackward1>)\n",
            "mississippi . tensor(5900) tensor(1012) tensor(0.0824, grad_fn=<SumBackward1>)\n",
            "river bank tensor(2314) tensor(2924) tensor(0.3079, grad_fn=<SumBackward1>)\n",
            "river . tensor(2314) tensor(1012) tensor(0.1434, grad_fn=<SumBackward1>)\n",
            "bank . tensor(2924) tensor(1012) tensor(0.1086, grad_fn=<SumBackward1>)\n"
          ]
        },
        {
          "output_type": "execute_result",
          "data": {
            "text/plain": [
              "'\\n# Print word embeddings for each token\\nfor token, embedding in zip(tokenized_text, word_embeddings[0]):\\n    #print(f\"Token: {token}\")\\n    print(f\"Embedding: {embedding}\")\\n    print(\"\\n\")\\nwith torch.no_grad():\\n    outputs = model(input_ids, attention_mask=attention_mask)\\n    word_embeddings = outputs.last_hidden_state  # This contains the embeddings\\n \\n# Output the shape of word embeddings\\nprint(f\"Shape of Word Embeddings: {word_embeddings.shape}\")\\n'"
            ],
            "application/vnd.google.colaboratory.intrinsic+json": {
              "type": "string"
            }
          },
          "metadata": {},
          "execution_count": 93
        }
      ]
    },
    {
      "cell_type": "code",
      "source": [],
      "metadata": {
        "id": "YOIeUElPkRpj"
      },
      "execution_count": 79,
      "outputs": []
    },
    {
      "cell_type": "code",
      "source": [
        "tuple_0_0 =[[tokenized_text[i],encoded_text[0][i+1],word_embeddings[0][i+1]] for i in range(len(tokenized_text))]"
      ],
      "metadata": {
        "id": "IwxviHnMW0gN"
      },
      "execution_count": 101,
      "outputs": []
    },
    {
      "cell_type": "code",
      "source": [
        "with torch.no_grad():\n",
        "    outputs = model(input_ids, attention_mask=attention_mask)\n",
        "    word_embeddings = outputs.last_hidden_state  # This contains the embeddings\n",
        "\n",
        "# Output the shape of word embeddings\n",
        "print(f\"Shape of Word Embeddings: {word_embeddings.shape}\")"
      ],
      "metadata": {
        "colab": {
          "base_uri": "https://localhost:8080/"
        },
        "id": "pMNUEhWRlod1",
        "outputId": "db81b58d-0d0d-45e9-f3d5-e44e2db3e7dd"
      },
      "execution_count": 94,
      "outputs": [
        {
          "output_type": "stream",
          "name": "stdout",
          "text": [
            "Shape of Word Embeddings: torch.Size([1, 22, 768])\n"
          ]
        }
      ]
    },
    {
      "cell_type": "code",
      "source": [
        "word_embeddings.shape"
      ],
      "metadata": {
        "colab": {
          "base_uri": "https://localhost:8080/"
        },
        "id": "GmLcWrpgr_U_",
        "outputId": "26cf03f4-d17f-4b6f-ad57-c5912a3e4a5b"
      },
      "execution_count": 100,
      "outputs": [
        {
          "output_type": "execute_result",
          "data": {
            "text/plain": [
              "torch.Size([1, 22, 768])"
            ]
          },
          "metadata": {},
          "execution_count": 100
        }
      ]
    },
    {
      "cell_type": "code",
      "source": [
        "# Print word embeddings for each token\n",
        "'''\n",
        "for token, embedding in zip(tokenized_text, word_embeddings[0]):\n",
        "    print(f\"Token: {token}\")\n",
        "    print(f\"Embedding: {embedding}\")\n",
        "    print(\"\\n\")\n",
        "'''\n",
        "for idx,tuple_1 in enumerate(tuple_0_0):\n",
        "  for idx_1,tuple_2 in enumerate(tuple_0_0):\n",
        "    #print(idx,idx_1)\n",
        "    if idx<idx_1:\n",
        "      print(tuple_1[0],tuple_2[0],tuple_1[1],tuple_2[1],idx,idx_1,cosi(tuple_1[2],tuple_2[2]))\n"
      ],
      "metadata": {
        "colab": {
          "base_uri": "https://localhost:8080/"
        },
        "id": "olT50ewcOny8",
        "outputId": "a7ad92b0-919c-4c16-f97a-7e972d16b230"
      },
      "execution_count": 103,
      "outputs": [
        {
          "output_type": "stream",
          "name": "stdout",
          "text": [
            "after stealing tensor(2044) tensor(11065) 0 1 tensor(0.4903)\n",
            "after money tensor(2044) tensor(2769) 0 2 tensor(0.3421)\n",
            "after from tensor(2044) tensor(2013) 0 3 tensor(0.3340)\n",
            "after the tensor(2044) tensor(1996) 0 4 tensor(0.4923)\n",
            "after bank tensor(2044) tensor(2924) 0 5 tensor(0.2519)\n",
            "after vault tensor(2044) tensor(11632) 0 6 tensor(0.2787)\n",
            "after , tensor(2044) tensor(1010) 0 7 tensor(-0.0074)\n",
            "after the tensor(2044) tensor(1996) 0 8 tensor(0.5428)\n",
            "after bank tensor(2044) tensor(2924) 0 9 tensor(0.2962)\n",
            "after robber tensor(2044) tensor(27307) 0 10 tensor(0.3771)\n",
            "after was tensor(2044) tensor(2001) 0 11 tensor(0.5545)\n",
            "after seen tensor(2044) tensor(2464) 0 12 tensor(0.4934)\n",
            "after fishing tensor(2044) tensor(5645) 0 13 tensor(0.2893)\n",
            "after on tensor(2044) tensor(2006) 0 14 tensor(0.3521)\n",
            "after the tensor(2044) tensor(1996) 0 15 tensor(0.4320)\n",
            "after mississippi tensor(2044) tensor(5900) 0 16 tensor(0.2139)\n",
            "after river tensor(2044) tensor(2314) 0 17 tensor(0.2551)\n",
            "after bank tensor(2044) tensor(2924) 0 18 tensor(0.3164)\n",
            "after . tensor(2044) tensor(1012) 0 19 tensor(0.0037)\n",
            "stealing money tensor(11065) tensor(2769) 1 2 tensor(0.5824)\n",
            "stealing from tensor(11065) tensor(2013) 1 3 tensor(0.4792)\n",
            "stealing the tensor(11065) tensor(1996) 1 4 tensor(0.5581)\n",
            "stealing bank tensor(11065) tensor(2924) 1 5 tensor(0.4687)\n",
            "stealing vault tensor(11065) tensor(11632) 1 6 tensor(0.5787)\n",
            "stealing , tensor(11065) tensor(1010) 1 7 tensor(0.0706)\n",
            "stealing the tensor(11065) tensor(1996) 1 8 tensor(0.5644)\n",
            "stealing bank tensor(11065) tensor(2924) 1 9 tensor(0.4915)\n",
            "stealing robber tensor(11065) tensor(27307) 1 10 tensor(0.6750)\n",
            "stealing was tensor(11065) tensor(2001) 1 11 tensor(0.5252)\n",
            "stealing seen tensor(11065) tensor(2464) 1 12 tensor(0.4981)\n",
            "stealing fishing tensor(11065) tensor(5645) 1 13 tensor(0.4031)\n",
            "stealing on tensor(11065) tensor(2006) 1 14 tensor(0.3775)\n",
            "stealing the tensor(11065) tensor(1996) 1 15 tensor(0.4620)\n",
            "stealing mississippi tensor(11065) tensor(5900) 1 16 tensor(0.2526)\n",
            "stealing river tensor(11065) tensor(2314) 1 17 tensor(0.3450)\n",
            "stealing bank tensor(11065) tensor(2924) 1 18 tensor(0.3852)\n",
            "stealing . tensor(11065) tensor(1012) 1 19 tensor(0.0504)\n",
            "money from tensor(2769) tensor(2013) 2 3 tensor(0.4958)\n",
            "money the tensor(2769) tensor(1996) 2 4 tensor(0.4512)\n",
            "money bank tensor(2769) tensor(2924) 2 5 tensor(0.6852)\n",
            "money vault tensor(2769) tensor(11632) 2 6 tensor(0.6160)\n",
            "money , tensor(2769) tensor(1010) 2 7 tensor(0.0788)\n",
            "money the tensor(2769) tensor(1996) 2 8 tensor(0.4196)\n",
            "money bank tensor(2769) tensor(2924) 2 9 tensor(0.6715)\n",
            "money robber tensor(2769) tensor(27307) 2 10 tensor(0.5525)\n",
            "money was tensor(2769) tensor(2001) 2 11 tensor(0.3876)\n",
            "money seen tensor(2769) tensor(2464) 2 12 tensor(0.3766)\n",
            "money fishing tensor(2769) tensor(5645) 2 13 tensor(0.2998)\n",
            "money on tensor(2769) tensor(2006) 2 14 tensor(0.3025)\n",
            "money the tensor(2769) tensor(1996) 2 15 tensor(0.4100)\n",
            "money mississippi tensor(2769) tensor(5900) 2 16 tensor(0.2917)\n",
            "money river tensor(2769) tensor(2314) 2 17 tensor(0.4003)\n",
            "money bank tensor(2769) tensor(2924) 2 18 tensor(0.5087)\n",
            "money . tensor(2769) tensor(1012) 2 19 tensor(0.0638)\n",
            "from the tensor(2013) tensor(1996) 3 4 tensor(0.4808)\n",
            "from bank tensor(2013) tensor(2924) 3 5 tensor(0.4262)\n",
            "from vault tensor(2013) tensor(11632) 3 6 tensor(0.4782)\n",
            "from , tensor(2013) tensor(1010) 3 7 tensor(0.1353)\n",
            "from the tensor(2013) tensor(1996) 3 8 tensor(0.4221)\n",
            "from bank tensor(2013) tensor(2924) 3 9 tensor(0.4108)\n",
            "from robber tensor(2013) tensor(27307) 3 10 tensor(0.3746)\n",
            "from was tensor(2013) tensor(2001) 3 11 tensor(0.3938)\n",
            "from seen tensor(2013) tensor(2464) 3 12 tensor(0.3366)\n",
            "from fishing tensor(2013) tensor(5645) 3 13 tensor(0.2919)\n",
            "from on tensor(2013) tensor(2006) 3 14 tensor(0.4208)\n",
            "from the tensor(2013) tensor(1996) 3 15 tensor(0.4657)\n",
            "from mississippi tensor(2013) tensor(5900) 3 16 tensor(0.2544)\n",
            "from river tensor(2013) tensor(2314) 3 17 tensor(0.3475)\n",
            "from bank tensor(2013) tensor(2924) 3 18 tensor(0.3733)\n",
            "from . tensor(2013) tensor(1012) 3 19 tensor(0.1091)\n",
            "the bank tensor(1996) tensor(2924) 4 5 tensor(0.4662)\n",
            "the vault tensor(1996) tensor(11632) 4 6 tensor(0.4951)\n",
            "the , tensor(1996) tensor(1010) 4 7 tensor(0.1208)\n",
            "the the tensor(1996) tensor(1996) 4 8 tensor(0.8434)\n",
            "the bank tensor(1996) tensor(2924) 4 9 tensor(0.4562)\n",
            "the robber tensor(1996) tensor(27307) 4 10 tensor(0.5182)\n",
            "the was tensor(1996) tensor(2001) 4 11 tensor(0.5690)\n",
            "the seen tensor(1996) tensor(2464) 4 12 tensor(0.5020)\n",
            "the fishing tensor(1996) tensor(5645) 4 13 tensor(0.2620)\n",
            "the on tensor(1996) tensor(2006) 4 14 tensor(0.3594)\n",
            "the the tensor(1996) tensor(1996) 4 15 tensor(0.7426)\n",
            "the mississippi tensor(1996) tensor(5900) 4 16 tensor(0.3691)\n",
            "the river tensor(1996) tensor(2314) 4 17 tensor(0.3886)\n",
            "the bank tensor(1996) tensor(2924) 4 18 tensor(0.3512)\n",
            "the . tensor(1996) tensor(1012) 4 19 tensor(0.1042)\n",
            "bank vault tensor(2924) tensor(11632) 5 6 tensor(0.6529)\n",
            "bank , tensor(2924) tensor(1010) 5 7 tensor(0.0991)\n",
            "bank the tensor(2924) tensor(1996) 5 8 tensor(0.3921)\n",
            "bank bank tensor(2924) tensor(2924) 5 9 tensor(0.9527)\n",
            "bank robber tensor(2924) tensor(27307) 5 10 tensor(0.5706)\n",
            "bank was tensor(2924) tensor(2001) 5 11 tensor(0.3611)\n",
            "bank seen tensor(2924) tensor(2464) 5 12 tensor(0.3238)\n",
            "bank fishing tensor(2924) tensor(5645) 5 13 tensor(0.2997)\n",
            "bank on tensor(2924) tensor(2006) 5 14 tensor(0.2857)\n",
            "bank the tensor(2924) tensor(1996) 5 15 tensor(0.4464)\n",
            "bank mississippi tensor(2924) tensor(5900) 5 16 tensor(0.3977)\n",
            "bank river tensor(2924) tensor(2314) 5 17 tensor(0.4895)\n",
            "bank bank tensor(2924) tensor(2924) 5 18 tensor(0.6989)\n",
            "bank . tensor(2924) tensor(1012) 5 19 tensor(0.0921)\n",
            "vault , tensor(11632) tensor(1010) 6 7 tensor(0.1048)\n",
            "vault the tensor(11632) tensor(1996) 6 8 tensor(0.4296)\n",
            "vault bank tensor(11632) tensor(2924) 6 9 tensor(0.6337)\n",
            "vault robber tensor(11632) tensor(27307) 6 10 tensor(0.6459)\n",
            "vault was tensor(11632) tensor(2001) 6 11 tensor(0.3850)\n",
            "vault seen tensor(11632) tensor(2464) 6 12 tensor(0.3460)\n",
            "vault fishing tensor(11632) tensor(5645) 6 13 tensor(0.2037)\n",
            "vault on tensor(11632) tensor(2006) 6 14 tensor(0.2237)\n",
            "vault the tensor(11632) tensor(1996) 6 15 tensor(0.4222)\n",
            "vault mississippi tensor(11632) tensor(5900) 6 16 tensor(0.3047)\n",
            "vault river tensor(11632) tensor(2314) 6 17 tensor(0.4265)\n",
            "vault bank tensor(11632) tensor(2924) 6 18 tensor(0.5265)\n",
            "vault . tensor(11632) tensor(1012) 6 19 tensor(0.0826)\n",
            ", the tensor(1010) tensor(1996) 7 8 tensor(0.1277)\n",
            ", bank tensor(1010) tensor(2924) 7 9 tensor(0.0914)\n",
            ", robber tensor(1010) tensor(27307) 7 10 tensor(0.0815)\n",
            ", was tensor(1010) tensor(2001) 7 11 tensor(0.0873)\n",
            ", seen tensor(1010) tensor(2464) 7 12 tensor(0.1086)\n",
            ", fishing tensor(1010) tensor(5645) 7 13 tensor(0.0834)\n",
            ", on tensor(1010) tensor(2006) 7 14 tensor(0.1118)\n",
            ", the tensor(1010) tensor(1996) 7 15 tensor(0.1265)\n",
            ", mississippi tensor(1010) tensor(5900) 7 16 tensor(0.0994)\n",
            ", river tensor(1010) tensor(2314) 7 17 tensor(0.1428)\n",
            ", bank tensor(1010) tensor(2924) 7 18 tensor(0.0951)\n",
            ", . tensor(1010) tensor(1012) 7 19 tensor(0.9487)\n",
            "the bank tensor(1996) tensor(2924) 8 9 tensor(0.4305)\n",
            "the robber tensor(1996) tensor(27307) 8 10 tensor(0.5969)\n",
            "the was tensor(1996) tensor(2001) 8 11 tensor(0.6505)\n",
            "the seen tensor(1996) tensor(2464) 8 12 tensor(0.5270)\n",
            "the fishing tensor(1996) tensor(5645) 8 13 tensor(0.2500)\n",
            "the on tensor(1996) tensor(2006) 8 14 tensor(0.3289)\n",
            "the the tensor(1996) tensor(1996) 8 15 tensor(0.6203)\n",
            "the mississippi tensor(1996) tensor(5900) 8 16 tensor(0.3346)\n",
            "the river tensor(1996) tensor(2314) 8 17 tensor(0.3693)\n",
            "the bank tensor(1996) tensor(2924) 8 18 tensor(0.2955)\n",
            "the . tensor(1996) tensor(1012) 8 19 tensor(0.1070)\n",
            "bank robber tensor(2924) tensor(27307) 9 10 tensor(0.6200)\n",
            "bank was tensor(2924) tensor(2001) 9 11 tensor(0.3844)\n",
            "bank seen tensor(2924) tensor(2464) 9 12 tensor(0.3497)\n",
            "bank fishing tensor(2924) tensor(5645) 9 13 tensor(0.3293)\n",
            "bank on tensor(2924) tensor(2006) 9 14 tensor(0.3055)\n",
            "bank the tensor(2924) tensor(1996) 9 15 tensor(0.4492)\n",
            "bank mississippi tensor(2924) tensor(5900) 9 16 tensor(0.3951)\n",
            "bank river tensor(2924) tensor(2314) 9 17 tensor(0.4945)\n",
            "bank bank tensor(2924) tensor(2924) 9 18 tensor(0.6979)\n",
            "bank . tensor(2924) tensor(1012) 9 19 tensor(0.0863)\n",
            "robber was tensor(27307) tensor(2001) 10 11 tensor(0.5191)\n",
            "robber seen tensor(27307) tensor(2464) 10 12 tensor(0.4710)\n",
            "robber fishing tensor(27307) tensor(5645) 10 13 tensor(0.2969)\n",
            "robber on tensor(27307) tensor(2006) 10 14 tensor(0.2654)\n",
            "robber the tensor(27307) tensor(1996) 10 15 tensor(0.4173)\n",
            "robber mississippi tensor(27307) tensor(5900) 10 16 tensor(0.3016)\n",
            "robber river tensor(27307) tensor(2314) 10 17 tensor(0.3523)\n",
            "robber bank tensor(27307) tensor(2924) 10 18 tensor(0.4287)\n",
            "robber . tensor(27307) tensor(1012) 10 19 tensor(0.0634)\n",
            "was seen tensor(2001) tensor(2464) 11 12 tensor(0.7232)\n",
            "was fishing tensor(2001) tensor(5645) 11 13 tensor(0.3347)\n",
            "was on tensor(2001) tensor(2006) 11 14 tensor(0.4153)\n",
            "was the tensor(2001) tensor(1996) 11 15 tensor(0.5394)\n",
            "was mississippi tensor(2001) tensor(5900) 11 16 tensor(0.3060)\n",
            "was river tensor(2001) tensor(2314) 11 17 tensor(0.3385)\n",
            "was bank tensor(2001) tensor(2924) 11 18 tensor(0.3477)\n",
            "was . tensor(2001) tensor(1012) 11 19 tensor(0.0596)\n",
            "seen fishing tensor(2464) tensor(5645) 12 13 tensor(0.4048)\n",
            "seen on tensor(2464) tensor(2006) 12 14 tensor(0.4501)\n",
            "seen the tensor(2464) tensor(1996) 12 15 tensor(0.5441)\n",
            "seen mississippi tensor(2464) tensor(5900) 12 16 tensor(0.3337)\n",
            "seen river tensor(2464) tensor(2314) 12 17 tensor(0.3402)\n",
            "seen bank tensor(2464) tensor(2924) 12 18 tensor(0.3284)\n",
            "seen . tensor(2464) tensor(1012) 12 19 tensor(0.0917)\n",
            "fishing on tensor(5645) tensor(2006) 13 14 tensor(0.6780)\n",
            "fishing the tensor(5645) tensor(1996) 13 15 tensor(0.4719)\n",
            "fishing mississippi tensor(5645) tensor(5900) 13 16 tensor(0.3016)\n",
            "fishing river tensor(5645) tensor(2314) 13 17 tensor(0.4283)\n",
            "fishing bank tensor(5645) tensor(2924) 13 18 tensor(0.4735)\n",
            "fishing . tensor(5645) tensor(1012) 13 19 tensor(0.0658)\n",
            "on the tensor(2006) tensor(1996) 14 15 tensor(0.6211)\n",
            "on mississippi tensor(2006) tensor(5900) 14 16 tensor(0.2919)\n",
            "on river tensor(2006) tensor(2314) 14 17 tensor(0.4354)\n",
            "on bank tensor(2006) tensor(2924) 14 18 tensor(0.5095)\n",
            "on . tensor(2006) tensor(1012) 14 19 tensor(0.1003)\n",
            "the mississippi tensor(1996) tensor(5900) 15 16 tensor(0.4597)\n",
            "the river tensor(1996) tensor(2314) 15 17 tensor(0.6000)\n",
            "the bank tensor(1996) tensor(2924) 15 18 tensor(0.5551)\n",
            "the . tensor(1996) tensor(1012) 15 19 tensor(0.1008)\n",
            "mississippi river tensor(5900) tensor(2314) 16 17 tensor(0.6463)\n",
            "mississippi bank tensor(5900) tensor(2924) 16 18 tensor(0.3791)\n",
            "mississippi . tensor(5900) tensor(1012) 16 19 tensor(0.1111)\n",
            "river bank tensor(2314) tensor(2924) 17 18 tensor(0.6117)\n",
            "river . tensor(2314) tensor(1012) 17 19 tensor(0.1383)\n",
            "bank . tensor(2924) tensor(1012) 18 19 tensor(0.0787)\n"
          ]
        }
      ]
    },
    {
      "cell_type": "code",
      "source": [],
      "metadata": {
        "id": "GpG2GxhPPKSs"
      },
      "execution_count": null,
      "outputs": []
    }
  ],
  "metadata": {
    "kernelspec": {
      "display_name": "Python 3",
      "language": "python",
      "name": "python3"
    },
    "language_info": {
      "codemirror_mode": {
        "name": "ipython",
        "version": 3
      },
      "file_extension": ".py",
      "mimetype": "text/x-python",
      "name": "python",
      "nbconvert_exporter": "python",
      "pygments_lexer": "ipython3",
      "version": "3.8.5"
    },
    "colab": {
      "provenance": []
    },
    "accelerator": "GPU"
  },
  "nbformat": 4,
  "nbformat_minor": 0
}